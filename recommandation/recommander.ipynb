{
 "cells": [
  {
   "cell_type": "markdown",
   "metadata": {},
   "source": [
    "# Recommander logic\r\n",
    "\r\n",
    "## Get the data into a dataframe\r\n",
    "\r\n",
    "First we need to import both tracks_tag.json which is our dataset and userdatabase.json which is the place where we store users preference."
   ]
  },
  {
   "cell_type": "code",
   "execution_count": 1,
   "metadata": {},
   "outputs": [],
   "source": [
    "import pandas as pd"
   ]
  },
  {
   "cell_type": "code",
   "execution_count": 2,
   "metadata": {},
   "outputs": [
    {
     "data": {
      "text/html": "<div>\n<style scoped>\n    .dataframe tbody tr th:only-of-type {\n        vertical-align: middle;\n    }\n\n    .dataframe tbody tr th {\n        vertical-align: top;\n    }\n\n    .dataframe thead th {\n        text-align: right;\n    }\n</style>\n<table border=\"1\" class=\"dataframe\">\n  <thead>\n    <tr style=\"text-align: right;\">\n      <th></th>\n      <th>track_name</th>\n      <th>artist_name</th>\n      <th>tags</th>\n    </tr>\n  </thead>\n  <tbody>\n    <tr>\n      <th>0</th>\n      <td>Blinding Lights</td>\n      <td>The Weeknd</td>\n      <td>[synthpop, synthwave, pop, 2010s]</td>\n    </tr>\n    <tr>\n      <th>1</th>\n      <td>telepatía</td>\n      <td>Kali Uchis</td>\n      <td>[kali uchis, pop, bop, latin, synthpop]</td>\n    </tr>\n    <tr>\n      <th>2</th>\n      <td>drivers license</td>\n      <td>Olivia Rodrigo</td>\n      <td>[pop, 2021, sad, debut, indie]</td>\n    </tr>\n    <tr>\n      <th>3</th>\n      <td>Save Your Tears</td>\n      <td>The Weeknd</td>\n      <td>[synthpop, pop, r&amp;b, rnb]</td>\n    </tr>\n    <tr>\n      <th>4</th>\n      <td>Leave The Door Open</td>\n      <td>Bruno Mars</td>\n      <td>[Anderson paak, soul, Smooth Soul, pop soul]</td>\n    </tr>\n  </tbody>\n</table>\n</div>",
      "text/plain": "            track_name     artist_name  \\\n0      Blinding Lights      The Weeknd   \n1            telepatía      Kali Uchis   \n2      drivers license  Olivia Rodrigo   \n3      Save Your Tears      The Weeknd   \n4  Leave The Door Open      Bruno Mars   \n\n                                           tags  \n0             [synthpop, synthwave, pop, 2010s]  \n1       [kali uchis, pop, bop, latin, synthpop]  \n2                [pop, 2021, sad, debut, indie]  \n3                     [synthpop, pop, r&b, rnb]  \n4  [Anderson paak, soul, Smooth Soul, pop soul]  "
     },
     "execution_count": 2,
     "metadata": {},
     "output_type": "execute_result"
    }
   ],
   "source": [
    "songs = pd.read_json('./tracks_tag.json')\r\n",
    "\r\n",
    "songs.head()"
   ]
  },
  {
   "cell_type": "code",
   "execution_count": 3,
   "metadata": {},
   "outputs": [
    {
     "data": {
      "text/html": "<div>\n<style scoped>\n    .dataframe tbody tr th:only-of-type {\n        vertical-align: middle;\n    }\n\n    .dataframe tbody tr th {\n        vertical-align: top;\n    }\n\n    .dataframe thead th {\n        text-align: right;\n    }\n</style>\n<table border=\"1\" class=\"dataframe\">\n  <thead>\n    <tr style=\"text-align: right;\">\n      <th></th>\n      <th>user_id</th>\n      <th>track_name</th>\n      <th>artist_name</th>\n      <th>score</th>\n      <th>tags</th>\n    </tr>\n  </thead>\n  <tbody>\n    <tr>\n      <th>0</th>\n      <td>3682350511826442</td>\n      <td>C'est pas grave</td>\n      <td>Columbine</td>\n      <td>9</td>\n      <td>[]</td>\n    </tr>\n    <tr>\n      <th>1</th>\n      <td>3682350511826442</td>\n      <td>Rasputin</td>\n      <td>Boney M.</td>\n      <td>10</td>\n      <td>[Disco, 70s, pop, 80s, dance]</td>\n    </tr>\n  </tbody>\n</table>\n</div>",
      "text/plain": "            user_id       track_name artist_name  score  \\\n0  3682350511826442  C'est pas grave   Columbine      9   \n1  3682350511826442         Rasputin    Boney M.     10   \n\n                            tags  \n0                             []  \n1  [Disco, 70s, pop, 80s, dance]  "
     },
     "execution_count": 3,
     "metadata": {},
     "output_type": "execute_result"
    }
   ],
   "source": [
    "import json\r\n",
    "with open('../src/userdatabase.json') as f:\r\n",
    "    data = json.load(f)\r\n",
    "\r\n",
    "header = ['user_id', 'track_name', 'artist_name', 'score', 'tags']\r\n",
    "users = []\r\n",
    "#If key is known don't iterate over the key argument\r\n",
    "for key in data:\r\n",
    "    for song in data[key]:\r\n",
    "        users.append([key, song['track_name'], song['artist_name'], song['score'], song['tags']])\r\n",
    "\r\n",
    "users = pd.DataFrame(users, columns=header)\r\n",
    "users"
   ]
  },
  {
   "cell_type": "markdown",
   "metadata": {},
   "source": [
    "We now have to get a list of all of our tags."
   ]
  },
  {
   "cell_type": "code",
   "execution_count": 4,
   "metadata": {},
   "outputs": [
    {
     "name": "stdout",
     "output_type": "stream",
     "text": [
      "736\n"
     ]
    }
   ],
   "source": [
    "all_genre = set()\r\n",
    "\r\n",
    "for elem in songs['tags']:\r\n",
    "    for tag in elem:\r\n",
    "        all_genre.add(tag)\r\n",
    "\r\n",
    "for elem in users['tags']:\r\n",
    "    for tag in elem:\r\n",
    "        all_genre.add(tag)\r\n",
    "\r\n",
    "all_genre = list(all_genre)\r\n",
    "print(len(all_genre))\r\n"
   ]
  },
  {
   "cell_type": "markdown",
   "metadata": {},
   "source": [
    "Let's now encode our data to one hot encoding"
   ]
  },
  {
   "cell_type": "code",
   "execution_count": 7,
   "metadata": {},
   "outputs": [
    {
     "name": "stdout",
     "output_type": "stream",
     "text": [
      "0.5\n",
      "0.4472135954999579\n"
     ]
    },
    {
     "data": {
      "text/html": "<div>\n<style scoped>\n    .dataframe tbody tr th:only-of-type {\n        vertical-align: middle;\n    }\n\n    .dataframe tbody tr th {\n        vertical-align: top;\n    }\n\n    .dataframe thead th {\n        text-align: right;\n    }\n</style>\n<table border=\"1\" class=\"dataframe\">\n  <thead>\n    <tr style=\"text-align: right;\">\n      <th></th>\n      <th>user_id</th>\n      <th>track_name</th>\n      <th>artist_name</th>\n      <th>score</th>\n      <th>tags</th>\n      <th>seen live</th>\n      <th>Megan Thee Stallion</th>\n      <th>summer</th>\n      <th>Dreamy</th>\n      <th>minimal</th>\n      <th>...</th>\n      <th>lush</th>\n      <th>def jam</th>\n      <th>james bond</th>\n      <th>kanye</th>\n      <th>blackpink</th>\n      <th>melancholy</th>\n      <th>little mix</th>\n      <th>incel</th>\n      <th>music choice: alternative</th>\n      <th>american</th>\n    </tr>\n  </thead>\n  <tbody>\n    <tr>\n      <th>0</th>\n      <td>3682350511826442</td>\n      <td>Rasputin</td>\n      <td>Boney M.</td>\n      <td>10</td>\n      <td>[Disco, 70s, pop, 80s, dance]</td>\n      <td>0</td>\n      <td>0</td>\n      <td>0</td>\n      <td>0</td>\n      <td>0</td>\n      <td>...</td>\n      <td>0</td>\n      <td>0</td>\n      <td>0</td>\n      <td>0</td>\n      <td>0</td>\n      <td>0</td>\n      <td>0</td>\n      <td>0</td>\n      <td>0</td>\n      <td>0</td>\n    </tr>\n  </tbody>\n</table>\n<p>1 rows × 741 columns</p>\n</div>",
      "text/plain": "            user_id track_name artist_name  score  \\\n0  3682350511826442   Rasputin    Boney M.     10   \n\n                            tags  seen live  Megan Thee Stallion  summer  \\\n0  [Disco, 70s, pop, 80s, dance]          0                    0       0   \n\n   Dreamy  minimal  ...  lush  def jam  james bond  kanye  blackpink  \\\n0       0        0  ...     0        0           0      0          0   \n\n   melancholy  little mix  incel  music choice: alternative  american  \n0           0           0      0                          0         0  \n\n[1 rows x 741 columns]"
     },
     "execution_count": 7,
     "metadata": {},
     "output_type": "execute_result"
    }
   ],
   "source": [
    "import math\r\n",
    "songs[all_genre] = 0\r\n",
    "i = 0\r\n",
    "for tags in songs['tags']:\r\n",
    "    for tag in tags:\r\n",
    "        songs.loc[i, tag] = 1/math.sqrt(len(tags))\r\n",
    "    #Remove song with empty tag\r\n",
    "    if(tags == []):\r\n",
    "        songs = songs.drop([i])\r\n",
    "    i+=1\r\n",
    "songs = songs.reset_index(drop=True)\r\n",
    "\r\n",
    "print(songs.loc[0, 'synthpop'])\r\n",
    "\r\n",
    "user = users[users['user_id'] == '3682350511826442']\r\n",
    "\r\n",
    "user[all_genre] = 0\r\n",
    "i = 0\r\n",
    "for tags in user['tags']:\r\n",
    "    for tag in tags:\r\n",
    "        user.loc[i, tag] = 1/math.sqrt(len(tags))\r\n",
    "    #Remove song with empty tag\r\n",
    "    if(tags == []):\r\n",
    "        user = user.drop([i])\r\n",
    "    i+=1\r\n",
    "user = user.reset_index(drop=True)\r\n",
    "\r\n",
    "print(user.loc[0, 'Disco'])\r\n",
    "user\r\n"
   ]
  },
  {
   "cell_type": "markdown",
   "metadata": {},
   "source": [
    "0.5 Is good because the first song have 4 tags so 1/√(4) = 0.5\r\n",
    "\r\n",
    "0.4472 is also good because the song have 5 tags so 1/√(5) = 0.44721\r\n",
    "\r\n",
    "Let's now calculate the user preference"
   ]
  },
  {
   "cell_type": "code",
   "execution_count": 8,
   "metadata": {},
   "outputs": [],
   "source": [
    "def userpreference(user_df):\r\n",
    "    user_pref = [0 for i in range(len(all_genre))]\r\n",
    "    for j in range(len(user_df)):\r\n",
    "        for i in range(len(all_genre)):\r\n",
    "            user_pref[i] += user_df.loc[j, 'score'] * user_df.iloc[j, i + 5]\r\n",
    "    return user_pref\r\n",
    "\r\n",
    "user_profile = userpreference(user)\r\n",
    "    "
   ]
  },
  {
   "cell_type": "markdown",
   "metadata": {},
   "source": [
    "Let's now build our cosine operator"
   ]
  },
  {
   "cell_type": "code",
   "execution_count": 12,
   "metadata": {},
   "outputs": [],
   "source": [
    "#Give the cosine score based on user_vector and song_vector\r\n",
    "def cosine(user_vector, user_vector_squared, song_vector):\r\n",
    "    #We can remove the square(song_vector) to the denominator because it is always = 1 because of the normalization\r\n",
    "    res = production(user_vector, song_vector)/(user_vector_squared)\r\n",
    "    return res\r\n",
    "\r\n",
    "#Calculate numerator value\r\n",
    "def production(user_vector, song_vector):\r\n",
    "    res = 0.0\r\n",
    "    for i in range(len(user_vector)):\r\n",
    "        res += user_vector[i] * song_vector[i]\r\n",
    "    return res\r\n",
    "\r\n",
    "#Calculate denominator value\r\n",
    "def square(vector):\r\n",
    "    res = 0.0\r\n",
    "    for i in range(len(vector)):\r\n",
    "        res += vector[i] * vector[i]\r\n",
    "    return math.sqrt(res)"
   ]
  },
  {
   "cell_type": "markdown",
   "metadata": {},
   "source": [
    "We finnally have everything to compute a recommandation !"
   ]
  },
  {
   "cell_type": "code",
   "execution_count": 13,
   "metadata": {},
   "outputs": [],
   "source": [
    "# Return a dictionnary of n key/value ranked by score - Representing the best movie an user represented by userId should watch\r\n",
    "def topSongUser(user_df, songs, n):\r\n",
    "\r\n",
    "    # Remove songs that are already in library\r\n",
    "    song_alredy_in_library = user_df['track_name']\r\n",
    "    song_unlistened = songs[~songs['track_name'].isin(song_alredy_in_library)]\r\n",
    "\r\n",
    "    # We store song name and artist name paired with their score\r\n",
    "    song_name = list(song_unlistened['track_name'])\r\n",
    "    song_artist = list(song_unlistened['artist_name'])\r\n",
    "    #Get score using the cosine distance\r\n",
    "\r\n",
    "    user_vector_squared = square(user_profile)\r\n",
    "    scores = songs.apply(lambda x: cosine(user_profile, user_vector_squared, x[3:]), axis = 1)\r\n",
    "    \r\n",
    "    #Store it in dict\r\n",
    "    songsScores = dict()\r\n",
    "    for i in range(len(scores)):\r\n",
    "        songsScores[str(song_name[i]) + '|' + str(song_artist[i])] = scores[i]\r\n",
    "        \r\n",
    "    #Sort dictionnary\r\n",
    "    songsScores = {k: v for k, v in sorted(songsScores.items(), key=lambda item: item[1], reverse=True)}\r\n",
    "    \r\n",
    "    #Return n first\r\n",
    "    return {k: songsScores[k] for k in list(songsScores)[:n]}"
   ]
  },
  {
   "cell_type": "code",
   "execution_count": 14,
   "metadata": {},
   "outputs": [
    {
     "name": "stdout",
     "output_type": "stream",
     "text": [
      "{'Billie Jean|Michael Jackson': 0.8, 'Dancing Queen|ABBA': 0.8, 'Hung Up|Madonna': 0.6708203932499369, \"doN'T StArT nOw|Dua Lipa\": 0.6, 'Break My Heart|Dua Lipa': 0.6, 'Physical|Dua Lipa': 0.6, 'Hallucinate|Dua Lipa': 0.6, 'September|Earth, Wind & Fire': 0.6, 'I Wanna Dance with Somebody (Who Loves Me)|Whitney Houston': 0.6, 'Gimme! Gimme! Gimme! (A Man After Midnight)|ABBA': 0.6}\n"
     ]
    }
   ],
   "source": [
    "print(topSongUser(user, songs, 10))"
   ]
  }
 ],
 "metadata": {
  "kernelspec": {
   "display_name": "Python 3.8.1 64-bit",
   "metadata": {
    "interpreter": {
     "hash": "2d8b9e556a2f6084349fcb98211c6ec9cb1ba178c6e10cd658d812259ef71008"
    }
   },
   "name": "python3"
  },
  "language_info": {
   "codemirror_mode": {
    "name": "ipython",
    "version": 3
   },
   "file_extension": ".py",
   "mimetype": "text/x-python",
   "name": "python",
   "nbconvert_exporter": "python",
   "pygments_lexer": "ipython3",
   "version": "3.8.1"
  },
  "orig_nbformat": 2
 },
 "nbformat": 4,
 "nbformat_minor": 2
}