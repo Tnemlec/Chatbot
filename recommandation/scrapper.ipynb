{
 "cells": [
  {
   "cell_type": "code",
   "execution_count": 43,
   "metadata": {},
   "outputs": [],
   "source": [
    "from dotenv import load_dotenv\r\n",
    "import os\r\n",
    "import requests\r\n",
    "\r\n",
    "load_dotenv()\r\n",
    "\r\n",
    "API_KEY = os.getenv('LASTFM_KEY')\r\n",
    "\r\n",
    "def make_request(method, parameters):\r\n",
    "    res = requests.get(f'http://ws.audioscrobbler.com/2.0/?method={method}&api_key={API_KEY}&format=json', parameters)\r\n",
    "    return res\r\n",
    "\r\n",
    "def get_top_n(n, page):\r\n",
    "    res = make_request('chart.gettoptracks', { 'limit': n, 'page': page})\r\n",
    "    return res.json()['tracks']['track']\r\n",
    "\r\n",
    "top_1000_tracks = get_top_n(1000, 1)"
   ]
  },
  {
   "cell_type": "code",
   "execution_count": 32,
   "metadata": {},
   "outputs": [],
   "source": [
    "import json\r\n",
    "def build_json(filename, track_info):\r\n",
    "    with open(filename, 'a', encoding='utf8') as f:\r\n",
    "        tags = list()\r\n",
    "        for tag_elem in track_info['track']['toptags']['tag']:\r\n",
    "            if(tag_elem['name'] != track_info['track']['artist']['name']):\r\n",
    "                tags.append(tag_elem['name'])\r\n",
    "        res = {\r\n",
    "            'track_name': track_info['track']['name'],\r\n",
    "            'artist_name': track_info['track']['artist']['name'],\r\n",
    "            'tags': tags\r\n",
    "        }\r\n",
    "        f.write(',\\n' + json.dumps(res))"
   ]
  },
  {
   "cell_type": "code",
   "execution_count": 33,
   "metadata": {},
   "outputs": [
    {
     "name": "stdout",
     "output_type": "stream",
     "text": [
      "1/50\n",
      "2/50\n",
      "3/50\n",
      "4/50\n",
      "5/50\n",
      "6/50\n",
      "7/50\n",
      "8/50\n",
      "9/50\n",
      "10/50\n",
      "11/50\n",
      "12/50\n",
      "13/50\n",
      "14/50\n",
      "15/50\n",
      "16/50\n",
      "17/50\n",
      "18/50\n",
      "19/50\n",
      "20/50\n",
      "21/50\n",
      "22/50\n",
      "23/50\n",
      "24/50\n",
      "25/50\n",
      "26/50\n",
      "27/50\n",
      "28/50\n",
      "29/50\n",
      "30/50\n",
      "31/50\n",
      "32/50\n",
      "33/50\n",
      "34/50\n",
      "35/50\n",
      "36/50\n",
      "37/50\n",
      "38/50\n",
      "39/50\n",
      "40/50\n",
      "41/50\n",
      "42/50\n",
      "43/50\n",
      "44/50\n",
      "45/50\n",
      "46/50\n",
      "47/50\n",
      "48/50\n",
      "49/50\n",
      "50/50\n"
     ]
    }
   ],
   "source": [
    "#Now foreach of those tracks get tag name\r\n",
    "i = 0\r\n",
    "for track in top_1000_tracks:\r\n",
    "    i+=1\r\n",
    "    track_info = make_request('track.getinfo', {'artist': track['artist']['name'], 'track': track['name']})\r\n",
    "    build_json('tracks_tag.json', track_info.json())\r\n",
    "    print(str(i) + '/' + str(len(top_1000_tracks)))"
   ]
  }
 ],
 "metadata": {
  "kernelspec": {
   "display_name": "Python 3.8.1 64-bit",
   "metadata": {
    "interpreter": {
     "hash": "2d8b9e556a2f6084349fcb98211c6ec9cb1ba178c6e10cd658d812259ef71008"
    }
   },
   "name": "python3"
  },
  "language_info": {
   "codemirror_mode": {
    "name": "ipython",
    "version": 3
   },
   "file_extension": ".py",
   "mimetype": "text/x-python",
   "name": "python",
   "nbconvert_exporter": "python",
   "pygments_lexer": "ipython3",
   "version": "3.8.1"
  },
  "orig_nbformat": 2
 },
 "nbformat": 4,
 "nbformat_minor": 2
}