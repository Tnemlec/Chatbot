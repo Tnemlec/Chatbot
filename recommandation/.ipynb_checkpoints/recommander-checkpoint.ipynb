{
 "cells": [
  {
   "cell_type": "markdown",
   "metadata": {},
   "source": [
    "# Recommander logic\n",
    "\n",
    "## Get the data into a dataframe\n",
    "\n",
    "First we need to import both tracks_tag.json which is our dataset and userdatabase.json which is the place where we store users preference."
   ]
  },
  {
   "cell_type": "code",
   "execution_count": 1,
   "metadata": {},
   "outputs": [],
   "source": [
    "import pandas as pd\n",
    "import timeit"
   ]
  },
  {
   "cell_type": "code",
   "execution_count": 2,
   "metadata": {},
   "outputs": [
    {
     "data": {
      "text/html": [
       "<div>\n",
       "<style scoped>\n",
       "    .dataframe tbody tr th:only-of-type {\n",
       "        vertical-align: middle;\n",
       "    }\n",
       "\n",
       "    .dataframe tbody tr th {\n",
       "        vertical-align: top;\n",
       "    }\n",
       "\n",
       "    .dataframe thead th {\n",
       "        text-align: right;\n",
       "    }\n",
       "</style>\n",
       "<table border=\"1\" class=\"dataframe\">\n",
       "  <thead>\n",
       "    <tr style=\"text-align: right;\">\n",
       "      <th></th>\n",
       "      <th>track_name</th>\n",
       "      <th>artist_name</th>\n",
       "      <th>tags</th>\n",
       "    </tr>\n",
       "  </thead>\n",
       "  <tbody>\n",
       "    <tr>\n",
       "      <th>0</th>\n",
       "      <td>Blinding Lights</td>\n",
       "      <td>The Weeknd</td>\n",
       "      <td>[synthpop, synthwave, pop, 2010s]</td>\n",
       "    </tr>\n",
       "    <tr>\n",
       "      <th>1</th>\n",
       "      <td>telepatía</td>\n",
       "      <td>Kali Uchis</td>\n",
       "      <td>[kali uchis, pop, bop, latin, synthpop]</td>\n",
       "    </tr>\n",
       "    <tr>\n",
       "      <th>2</th>\n",
       "      <td>drivers license</td>\n",
       "      <td>Olivia Rodrigo</td>\n",
       "      <td>[pop, 2021, sad, debut, indie]</td>\n",
       "    </tr>\n",
       "    <tr>\n",
       "      <th>3</th>\n",
       "      <td>Save Your Tears</td>\n",
       "      <td>The Weeknd</td>\n",
       "      <td>[synthpop, pop, r&amp;b, rnb]</td>\n",
       "    </tr>\n",
       "    <tr>\n",
       "      <th>4</th>\n",
       "      <td>Leave The Door Open</td>\n",
       "      <td>Bruno Mars</td>\n",
       "      <td>[Anderson paak, soul, Smooth Soul, pop soul]</td>\n",
       "    </tr>\n",
       "  </tbody>\n",
       "</table>\n",
       "</div>"
      ],
      "text/plain": [
       "            track_name     artist_name  \\\n",
       "0      Blinding Lights      The Weeknd   \n",
       "1            telepatía      Kali Uchis   \n",
       "2      drivers license  Olivia Rodrigo   \n",
       "3      Save Your Tears      The Weeknd   \n",
       "4  Leave The Door Open      Bruno Mars   \n",
       "\n",
       "                                           tags  \n",
       "0             [synthpop, synthwave, pop, 2010s]  \n",
       "1       [kali uchis, pop, bop, latin, synthpop]  \n",
       "2                [pop, 2021, sad, debut, indie]  \n",
       "3                     [synthpop, pop, r&b, rnb]  \n",
       "4  [Anderson paak, soul, Smooth Soul, pop soul]  "
      ]
     },
     "execution_count": 2,
     "metadata": {},
     "output_type": "execute_result"
    }
   ],
   "source": [
    "songs = pd.read_json('./tracks_tag.json')\n",
    "\n",
    "songs.head()"
   ]
  },
  {
   "cell_type": "code",
   "execution_count": 3,
   "metadata": {},
   "outputs": [
    {
     "data": {
      "text/html": [
       "<div>\n",
       "<style scoped>\n",
       "    .dataframe tbody tr th:only-of-type {\n",
       "        vertical-align: middle;\n",
       "    }\n",
       "\n",
       "    .dataframe tbody tr th {\n",
       "        vertical-align: top;\n",
       "    }\n",
       "\n",
       "    .dataframe thead th {\n",
       "        text-align: right;\n",
       "    }\n",
       "</style>\n",
       "<table border=\"1\" class=\"dataframe\">\n",
       "  <thead>\n",
       "    <tr style=\"text-align: right;\">\n",
       "      <th></th>\n",
       "      <th>user_id</th>\n",
       "      <th>track_name</th>\n",
       "      <th>artist_name</th>\n",
       "      <th>score</th>\n",
       "      <th>tags</th>\n",
       "    </tr>\n",
       "  </thead>\n",
       "  <tbody>\n",
       "    <tr>\n",
       "      <th>0</th>\n",
       "      <td>3682350511826442</td>\n",
       "      <td>C'est pas grave</td>\n",
       "      <td>Columbine</td>\n",
       "      <td>9</td>\n",
       "      <td>[]</td>\n",
       "    </tr>\n",
       "    <tr>\n",
       "      <th>1</th>\n",
       "      <td>3682350511826442</td>\n",
       "      <td>Rasputin</td>\n",
       "      <td>Boney M.</td>\n",
       "      <td>10</td>\n",
       "      <td>[Disco, 70s, pop, 80s, dance]</td>\n",
       "    </tr>\n",
       "  </tbody>\n",
       "</table>\n",
       "</div>"
      ],
      "text/plain": [
       "            user_id       track_name artist_name  score  \\\n",
       "0  3682350511826442  C'est pas grave   Columbine      9   \n",
       "1  3682350511826442         Rasputin    Boney M.     10   \n",
       "\n",
       "                            tags  \n",
       "0                             []  \n",
       "1  [Disco, 70s, pop, 80s, dance]  "
      ]
     },
     "execution_count": 3,
     "metadata": {},
     "output_type": "execute_result"
    }
   ],
   "source": [
    "import json\n",
    "with open('../src/userdatabase.json') as f:\n",
    "    data = json.load(f)\n",
    "\n",
    "header = ['user_id', 'track_name', 'artist_name', 'score', 'tags']\n",
    "users = []\n",
    "#TODO If key is known don't iterate over the key argument\n",
    "for key in data:\n",
    "    for song in data[key]:\n",
    "        users.append([key, song['track_name'], song['artist_name'], song['score'], song['tags']])\n",
    "\n",
    "users = pd.DataFrame(users, columns=header)\n",
    "users"
   ]
  },
  {
   "cell_type": "markdown",
   "metadata": {},
   "source": [
    "We now have to get a list of all of our tags."
   ]
  },
  {
   "cell_type": "code",
   "execution_count": 4,
   "metadata": {},
   "outputs": [
    {
     "name": "stdout",
     "output_type": "stream",
     "text": [
      "736\n"
     ]
    }
   ],
   "source": [
    "all_genre = set()\n",
    "\n",
    "for elem in songs['tags']:\n",
    "    for tag in elem:\n",
    "        all_genre.add(tag)\n",
    "\n",
    "for elem in users['tags']:\n",
    "    for tag in elem:\n",
    "        all_genre.add(tag)\n",
    "\n",
    "all_genre = list(all_genre)\n",
    "print(len(all_genre))\n"
   ]
  },
  {
   "cell_type": "markdown",
   "metadata": {},
   "source": [
    "Let's now encode our data to one hot encoding"
   ]
  },
  {
   "cell_type": "code",
   "execution_count": 17,
   "metadata": {},
   "outputs": [
    {
     "name": "stdout",
     "output_type": "stream",
     "text": [
      "Dropping\n",
      "Dropping\n",
      "Dropping\n",
      "Dropping\n",
      "Dropping\n",
      "Dropping\n",
      "Dropping\n",
      "Dropping\n",
      "Dropping\n",
      "Dropping\n",
      "Dropping\n",
      "Dropping\n",
      "Dropping\n",
      "Dropping\n",
      "Dropping\n",
      "Dropping\n",
      "Dropping\n",
      "Dropping\n",
      "Dropping\n",
      "Dropping\n",
      "Dropping\n",
      "Dropping\n",
      "Dropping\n",
      "Dropping\n",
      "Dropping\n",
      "Dropping\n",
      "Dropping\n",
      "Dropping\n",
      "Dropping\n",
      "Dropping\n",
      "Dropping\n",
      "Dropping\n",
      "Dropping\n",
      "Dropping\n",
      "Dropping\n",
      "Dropping\n",
      "Dropping\n",
      "Dropping\n",
      "Dropping\n",
      "Dropping\n",
      "0.5\n"
     ]
    }
   ],
   "source": [
    "import math\n",
    "songs[all_genre] = 0\n",
    "i = 0\n",
    "for tags in songs['tags']:\n",
    "    for tag in tags:\n",
    "        songs.loc[i, tag] = 1/math.sqrt(len(tags))\n",
    "    if(tags == []):\n",
    "        songs = songs.drop([i])\n",
    "        print('Dropping')\n",
    "    i+=1\n",
    "songs = songs.reset_index(drop=True)\n",
    "\n",
    "print(songs.loc[0, 'synthpop'])\n",
    "\n",
    "user = users[users['user_id'] == '3682350511826442']\n",
    "\n",
    "user[all_genre] = 0\n",
    "i = 0\n",
    "for tags in user['tags']:\n",
    "    for tag in tags:\n",
    "        user.loc[i, tag] = 1/math.sqrt(len(tags))\n",
    "    if(tags == []):\n",
    "        user = user.drop([i])\n",
    "    i+=1\n",
    "user = user.reset_index(drop=True)"
   ]
  },
  {
   "cell_type": "markdown",
   "metadata": {},
   "source": [
    "0.5 Is good because the first song have 4 tags so 1/√(4) = 0.5\n",
    "\n",
    "0.4472 is also good because the song have 5 tags so 1/√(5) = 0.44721\n",
    "\n",
    "Let's now calculate the user preference"
   ]
  },
  {
   "cell_type": "code",
   "execution_count": 18,
   "metadata": {},
   "outputs": [],
   "source": [
    "def userpreference(user_df):\n",
    "    user_pref = [0 for i in range(len(all_genre))]\n",
    "    z = 0\n",
    "    for j in range(len(user_df)):\n",
    "        for i in range(len(all_genre)):\n",
    "            z+=1\n",
    "            user_pref[i] += user_df.loc[j, 'score'] * user_df.iloc[j, i + 5]\n",
    "    return user_pref\n",
    "\n",
    "\n",
    "user_profile = userpreference(user)\n",
    "    "
   ]
  },
  {
   "cell_type": "markdown",
   "metadata": {},
   "source": [
    "Let's now build our cosine operator"
   ]
  },
  {
   "cell_type": "code",
   "execution_count": 45,
   "metadata": {},
   "outputs": [],
   "source": [
    "#Give the cosine score based on user_vector and song_vector\n",
    "def cosine(user_vector, user_vector_squared, song_vector):\n",
    "    #We can remove the square(song_vector) to the denominator because it is always = 1 because of the normalization\n",
    "    res = production(user_vector, song_vector)/(user_vector_squared)\n",
    "    return res\n",
    "\n",
    "#Calculate numerator value\n",
    "def production(user_vector, song_vector):\n",
    "    res = 0.0\n",
    "    for i in range(len(user_vector)):\n",
    "        res += user_vector[i] * song_vector[i]\n",
    "    return res\n",
    "\n",
    "#Calculate denominator value\n",
    "def square(vector):\n",
    "    res = 0.0\n",
    "    for i in range(len(vector)):\n",
    "        res += vector[i] * vector[i]\n",
    "    return math.sqrt(res)"
   ]
  },
  {
   "cell_type": "markdown",
   "metadata": {},
   "source": [
    "We finnally have everything to compute a recommandation !"
   ]
  },
  {
   "cell_type": "code",
   "execution_count": 48,
   "metadata": {},
   "outputs": [],
   "source": [
    "# Return a dictionnary of n key/value ranked by score - Representing the best movie an user represented by userId should watch\n",
    "def topSongUser(user_df, songs, n):\n",
    "    # Remove seen movie (they are rated)\n",
    "    song_alredy_in_library = user_df['track_name']\n",
    "    song_unlistened = songs[~songs['track_name'].isin(song_alredy_in_library)]\n",
    "    # We store movies id paired with their score\n",
    "    song_name = list(song_unlistened['track_name'])\n",
    "    song_artist = list(song_unlistened['artist_name'])\n",
    "    user_vector_squared = square(user_profile)\n",
    "    scores = songs.apply(lambda x: cosine(user_profile, user_vector_squared, x[3:]), axis = 1)\n",
    "    songsScores = dict()\n",
    "    for i in range(len(scores)):\n",
    "        songsScores[str(song_name[i]) + '|' + str(song_artist[i])] = scores[i]\n",
    "    #Sort dictionnary\n",
    "    songsScores = {k: v for k, v in sorted(songsScores.items(), key=lambda item: item[1], reverse=True)}\n",
    "    #Return n first\n",
    "    return {k: songsScores[k] for k in list(songsScores)[:n]}"
   ]
  },
  {
   "cell_type": "code",
   "execution_count": 49,
   "metadata": {},
   "outputs": [
    {
     "name": "stdout",
     "output_type": "stream",
     "text": [
      "a\n",
      "b\n",
      "c\n",
      "d\n",
      "e\n",
      "f\n",
      "{'Billie Jean|Michael Jackson': 0.8, 'Dancing Queen|ABBA': 0.8, 'Hung Up|Madonna': 0.6708203932499369, \"doN'T StArT nOw|Dua Lipa\": 0.6, 'Break My Heart|Dua Lipa': 0.6, 'Physical|Dua Lipa': 0.6, 'Hallucinate|Dua Lipa': 0.6, 'September|Earth, Wind & Fire': 0.6, 'I Wanna Dance with Somebody (Who Loves Me)|Whitney Houston': 0.6, 'Gimme! Gimme! Gimme! (A Man After Midnight)|ABBA': 0.6}\n"
     ]
    }
   ],
   "source": [
    "print(topSongUser(user, songs, 10))"
   ]
  }
 ],
 "metadata": {
  "kernelspec": {
   "display_name": "Python 3",
   "language": "python",
   "name": "python3"
  },
  "language_info": {
   "codemirror_mode": {
    "name": "ipython",
    "version": 3
   },
   "file_extension": ".py",
   "mimetype": "text/x-python",
   "name": "python",
   "nbconvert_exporter": "python",
   "pygments_lexer": "ipython3",
   "version": "3.8.1"
  }
 },
 "nbformat": 4,
 "nbformat_minor": 2
}
